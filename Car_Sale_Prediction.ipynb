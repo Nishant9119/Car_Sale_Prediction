{
  "nbformat": 4,
  "nbformat_minor": 0,
  "metadata": {
    "colab": {
      "provenance": [],
      "authorship_tag": "ABX9TyPLdnjgBAGGCJF1IvxgXPjT"
    },
    "kernelspec": {
      "name": "python3",
      "display_name": "Python 3"
    },
    "language_info": {
      "name": "python"
    }
  },
  "cells": [
    {
      "cell_type": "code",
      "execution_count": 617,
      "metadata": {
        "id": "xcvH_uWcQpVw"
      },
      "outputs": [],
      "source": [
        "import numpy as np\n",
        "import pandas as pd\n",
        "import matplotlib.pyplot as plt\n",
        "import seaborn as sns\n",
        "\n"
      ]
    },
    {
      "cell_type": "code",
      "source": [
        "df = pd.read_csv(\"/content/Car_Purchasing_Data.csv\",encoding = 'ISO-8859-1')"
      ],
      "metadata": {
        "id": "8tpzr1n4Q-Ve"
      },
      "execution_count": 618,
      "outputs": []
    },
    {
      "cell_type": "code",
      "source": [
        "df"
      ],
      "metadata": {
        "colab": {
          "base_uri": "https://localhost:8080/",
          "height": 423
        },
        "id": "Jg-gz_9-RDBL",
        "outputId": "ed8273c9-f33a-4458-f877-4dc80a83a22b"
      },
      "execution_count": 619,
      "outputs": [
        {
          "output_type": "execute_result",
          "data": {
            "text/plain": [
              "       Customer Name                                    Customer e-mail  \\\n",
              "0      Martina Avila  cubilia.Curae.Phasellus@quisaccumsanconvallis.edu   \n",
              "1      Harlan Barnes                                eu.dolor@diam.co.uk   \n",
              "2    Naomi Rodriquez  vulputate.mauris.sagittis@ametconsectetueradip...   \n",
              "3    Jade Cunningham                            malesuada@dignissim.com   \n",
              "4       Cedric Leach     felis.ullamcorper.viverra@egetmollislectus.net   \n",
              "..               ...                                                ...   \n",
              "495           Walter                                ligula@Cumsociis.ca   \n",
              "496            Vanna                 Cum.sociis.natoque@Sedmolestie.edu   \n",
              "497            Pearl                      penatibus.et@massanonante.com   \n",
              "498             Nell                  Quisque.varius@arcuVivamussit.net   \n",
              "499            Marla                          Camaron.marla@hotmail.com   \n",
              "\n",
              "          Country  Gender        Age  Annual Salary  Credit Card Debt  \\\n",
              "0        Bulgaria       0  41.851720    62812.09301      11609.380910   \n",
              "1          Belize       0  40.870623    66646.89292       9572.957136   \n",
              "2         Algeria       1  43.152897    53798.55112      11160.355060   \n",
              "3    Cook Islands       1  58.271369    79370.03798      14426.164850   \n",
              "4          Brazil       1  57.313749    59729.15130       5358.712177   \n",
              "..            ...     ...        ...            ...               ...   \n",
              "495         Nepal       0  41.462515    71942.40291       6995.902524   \n",
              "496      Zimbabwe       1  37.642000    56039.49793      12301.456790   \n",
              "497   Philippines       1  53.943497    68888.77805      10611.606860   \n",
              "498      Botswana       1  59.160509    49811.99062      14013.034510   \n",
              "499        marlal       1  46.731152    61370.67766       9391.341628   \n",
              "\n",
              "       Net Worth  Car Purchase Amount  \n",
              "0    238961.2505          35321.45877  \n",
              "1    530973.9078          45115.52566  \n",
              "2    638467.1773          42925.70921  \n",
              "3    548599.0524          67422.36313  \n",
              "4    560304.0671          55915.46248  \n",
              "..           ...                  ...  \n",
              "495  541670.1016          48901.44342  \n",
              "496  360419.0988          31491.41457  \n",
              "497  764531.3203          64147.28888  \n",
              "498  337826.6382          45442.15353  \n",
              "499  462946.4924          45107.22566  \n",
              "\n",
              "[500 rows x 9 columns]"
            ],
            "text/html": [
              "\n",
              "\n",
              "  <div id=\"df-48f2653f-55ce-4a53-ba8e-7ef8f1ca7a9d\">\n",
              "    <div class=\"colab-df-container\">\n",
              "      <div>\n",
              "<style scoped>\n",
              "    .dataframe tbody tr th:only-of-type {\n",
              "        vertical-align: middle;\n",
              "    }\n",
              "\n",
              "    .dataframe tbody tr th {\n",
              "        vertical-align: top;\n",
              "    }\n",
              "\n",
              "    .dataframe thead th {\n",
              "        text-align: right;\n",
              "    }\n",
              "</style>\n",
              "<table border=\"1\" class=\"dataframe\">\n",
              "  <thead>\n",
              "    <tr style=\"text-align: right;\">\n",
              "      <th></th>\n",
              "      <th>Customer Name</th>\n",
              "      <th>Customer e-mail</th>\n",
              "      <th>Country</th>\n",
              "      <th>Gender</th>\n",
              "      <th>Age</th>\n",
              "      <th>Annual Salary</th>\n",
              "      <th>Credit Card Debt</th>\n",
              "      <th>Net Worth</th>\n",
              "      <th>Car Purchase Amount</th>\n",
              "    </tr>\n",
              "  </thead>\n",
              "  <tbody>\n",
              "    <tr>\n",
              "      <th>0</th>\n",
              "      <td>Martina Avila</td>\n",
              "      <td>cubilia.Curae.Phasellus@quisaccumsanconvallis.edu</td>\n",
              "      <td>Bulgaria</td>\n",
              "      <td>0</td>\n",
              "      <td>41.851720</td>\n",
              "      <td>62812.09301</td>\n",
              "      <td>11609.380910</td>\n",
              "      <td>238961.2505</td>\n",
              "      <td>35321.45877</td>\n",
              "    </tr>\n",
              "    <tr>\n",
              "      <th>1</th>\n",
              "      <td>Harlan Barnes</td>\n",
              "      <td>eu.dolor@diam.co.uk</td>\n",
              "      <td>Belize</td>\n",
              "      <td>0</td>\n",
              "      <td>40.870623</td>\n",
              "      <td>66646.89292</td>\n",
              "      <td>9572.957136</td>\n",
              "      <td>530973.9078</td>\n",
              "      <td>45115.52566</td>\n",
              "    </tr>\n",
              "    <tr>\n",
              "      <th>2</th>\n",
              "      <td>Naomi Rodriquez</td>\n",
              "      <td>vulputate.mauris.sagittis@ametconsectetueradip...</td>\n",
              "      <td>Algeria</td>\n",
              "      <td>1</td>\n",
              "      <td>43.152897</td>\n",
              "      <td>53798.55112</td>\n",
              "      <td>11160.355060</td>\n",
              "      <td>638467.1773</td>\n",
              "      <td>42925.70921</td>\n",
              "    </tr>\n",
              "    <tr>\n",
              "      <th>3</th>\n",
              "      <td>Jade Cunningham</td>\n",
              "      <td>malesuada@dignissim.com</td>\n",
              "      <td>Cook Islands</td>\n",
              "      <td>1</td>\n",
              "      <td>58.271369</td>\n",
              "      <td>79370.03798</td>\n",
              "      <td>14426.164850</td>\n",
              "      <td>548599.0524</td>\n",
              "      <td>67422.36313</td>\n",
              "    </tr>\n",
              "    <tr>\n",
              "      <th>4</th>\n",
              "      <td>Cedric Leach</td>\n",
              "      <td>felis.ullamcorper.viverra@egetmollislectus.net</td>\n",
              "      <td>Brazil</td>\n",
              "      <td>1</td>\n",
              "      <td>57.313749</td>\n",
              "      <td>59729.15130</td>\n",
              "      <td>5358.712177</td>\n",
              "      <td>560304.0671</td>\n",
              "      <td>55915.46248</td>\n",
              "    </tr>\n",
              "    <tr>\n",
              "      <th>...</th>\n",
              "      <td>...</td>\n",
              "      <td>...</td>\n",
              "      <td>...</td>\n",
              "      <td>...</td>\n",
              "      <td>...</td>\n",
              "      <td>...</td>\n",
              "      <td>...</td>\n",
              "      <td>...</td>\n",
              "      <td>...</td>\n",
              "    </tr>\n",
              "    <tr>\n",
              "      <th>495</th>\n",
              "      <td>Walter</td>\n",
              "      <td>ligula@Cumsociis.ca</td>\n",
              "      <td>Nepal</td>\n",
              "      <td>0</td>\n",
              "      <td>41.462515</td>\n",
              "      <td>71942.40291</td>\n",
              "      <td>6995.902524</td>\n",
              "      <td>541670.1016</td>\n",
              "      <td>48901.44342</td>\n",
              "    </tr>\n",
              "    <tr>\n",
              "      <th>496</th>\n",
              "      <td>Vanna</td>\n",
              "      <td>Cum.sociis.natoque@Sedmolestie.edu</td>\n",
              "      <td>Zimbabwe</td>\n",
              "      <td>1</td>\n",
              "      <td>37.642000</td>\n",
              "      <td>56039.49793</td>\n",
              "      <td>12301.456790</td>\n",
              "      <td>360419.0988</td>\n",
              "      <td>31491.41457</td>\n",
              "    </tr>\n",
              "    <tr>\n",
              "      <th>497</th>\n",
              "      <td>Pearl</td>\n",
              "      <td>penatibus.et@massanonante.com</td>\n",
              "      <td>Philippines</td>\n",
              "      <td>1</td>\n",
              "      <td>53.943497</td>\n",
              "      <td>68888.77805</td>\n",
              "      <td>10611.606860</td>\n",
              "      <td>764531.3203</td>\n",
              "      <td>64147.28888</td>\n",
              "    </tr>\n",
              "    <tr>\n",
              "      <th>498</th>\n",
              "      <td>Nell</td>\n",
              "      <td>Quisque.varius@arcuVivamussit.net</td>\n",
              "      <td>Botswana</td>\n",
              "      <td>1</td>\n",
              "      <td>59.160509</td>\n",
              "      <td>49811.99062</td>\n",
              "      <td>14013.034510</td>\n",
              "      <td>337826.6382</td>\n",
              "      <td>45442.15353</td>\n",
              "    </tr>\n",
              "    <tr>\n",
              "      <th>499</th>\n",
              "      <td>Marla</td>\n",
              "      <td>Camaron.marla@hotmail.com</td>\n",
              "      <td>marlal</td>\n",
              "      <td>1</td>\n",
              "      <td>46.731152</td>\n",
              "      <td>61370.67766</td>\n",
              "      <td>9391.341628</td>\n",
              "      <td>462946.4924</td>\n",
              "      <td>45107.22566</td>\n",
              "    </tr>\n",
              "  </tbody>\n",
              "</table>\n",
              "<p>500 rows × 9 columns</p>\n",
              "</div>\n",
              "      <button class=\"colab-df-convert\" onclick=\"convertToInteractive('df-48f2653f-55ce-4a53-ba8e-7ef8f1ca7a9d')\"\n",
              "              title=\"Convert this dataframe to an interactive table.\"\n",
              "              style=\"display:none;\">\n",
              "\n",
              "  <svg xmlns=\"http://www.w3.org/2000/svg\" height=\"24px\"viewBox=\"0 0 24 24\"\n",
              "       width=\"24px\">\n",
              "    <path d=\"M0 0h24v24H0V0z\" fill=\"none\"/>\n",
              "    <path d=\"M18.56 5.44l.94 2.06.94-2.06 2.06-.94-2.06-.94-.94-2.06-.94 2.06-2.06.94zm-11 1L8.5 8.5l.94-2.06 2.06-.94-2.06-.94L8.5 2.5l-.94 2.06-2.06.94zm10 10l.94 2.06.94-2.06 2.06-.94-2.06-.94-.94-2.06-.94 2.06-2.06.94z\"/><path d=\"M17.41 7.96l-1.37-1.37c-.4-.4-.92-.59-1.43-.59-.52 0-1.04.2-1.43.59L10.3 9.45l-7.72 7.72c-.78.78-.78 2.05 0 2.83L4 21.41c.39.39.9.59 1.41.59.51 0 1.02-.2 1.41-.59l7.78-7.78 2.81-2.81c.8-.78.8-2.07 0-2.86zM5.41 20L4 18.59l7.72-7.72 1.47 1.35L5.41 20z\"/>\n",
              "  </svg>\n",
              "      </button>\n",
              "\n",
              "\n",
              "\n",
              "    <div id=\"df-16f7a5a9-c5c3-478e-9a30-f72ae3659df6\">\n",
              "      <button class=\"colab-df-quickchart\" onclick=\"quickchart('df-16f7a5a9-c5c3-478e-9a30-f72ae3659df6')\"\n",
              "              title=\"Suggest charts.\"\n",
              "              style=\"display:none;\">\n",
              "\n",
              "<svg xmlns=\"http://www.w3.org/2000/svg\" height=\"24px\"viewBox=\"0 0 24 24\"\n",
              "     width=\"24px\">\n",
              "    <g>\n",
              "        <path d=\"M19 3H5c-1.1 0-2 .9-2 2v14c0 1.1.9 2 2 2h14c1.1 0 2-.9 2-2V5c0-1.1-.9-2-2-2zM9 17H7v-7h2v7zm4 0h-2V7h2v10zm4 0h-2v-4h2v4z\"/>\n",
              "    </g>\n",
              "</svg>\n",
              "      </button>\n",
              "    </div>\n",
              "\n",
              "<style>\n",
              "  .colab-df-quickchart {\n",
              "    background-color: #E8F0FE;\n",
              "    border: none;\n",
              "    border-radius: 50%;\n",
              "    cursor: pointer;\n",
              "    display: none;\n",
              "    fill: #1967D2;\n",
              "    height: 32px;\n",
              "    padding: 0 0 0 0;\n",
              "    width: 32px;\n",
              "  }\n",
              "\n",
              "  .colab-df-quickchart:hover {\n",
              "    background-color: #E2EBFA;\n",
              "    box-shadow: 0px 1px 2px rgba(60, 64, 67, 0.3), 0px 1px 3px 1px rgba(60, 64, 67, 0.15);\n",
              "    fill: #174EA6;\n",
              "  }\n",
              "\n",
              "  [theme=dark] .colab-df-quickchart {\n",
              "    background-color: #3B4455;\n",
              "    fill: #D2E3FC;\n",
              "  }\n",
              "\n",
              "  [theme=dark] .colab-df-quickchart:hover {\n",
              "    background-color: #434B5C;\n",
              "    box-shadow: 0px 1px 3px 1px rgba(0, 0, 0, 0.15);\n",
              "    filter: drop-shadow(0px 1px 2px rgba(0, 0, 0, 0.3));\n",
              "    fill: #FFFFFF;\n",
              "  }\n",
              "</style>\n",
              "\n",
              "    <script>\n",
              "      async function quickchart(key) {\n",
              "        const containerElement = document.querySelector('#' + key);\n",
              "        const charts = await google.colab.kernel.invokeFunction(\n",
              "            'suggestCharts', [key], {});\n",
              "      }\n",
              "    </script>\n",
              "\n",
              "      <script>\n",
              "\n",
              "function displayQuickchartButton(domScope) {\n",
              "  let quickchartButtonEl =\n",
              "    domScope.querySelector('#df-16f7a5a9-c5c3-478e-9a30-f72ae3659df6 button.colab-df-quickchart');\n",
              "  quickchartButtonEl.style.display =\n",
              "    google.colab.kernel.accessAllowed ? 'block' : 'none';\n",
              "}\n",
              "\n",
              "        displayQuickchartButton(document);\n",
              "      </script>\n",
              "      <style>\n",
              "    .colab-df-container {\n",
              "      display:flex;\n",
              "      flex-wrap:wrap;\n",
              "      gap: 12px;\n",
              "    }\n",
              "\n",
              "    .colab-df-convert {\n",
              "      background-color: #E8F0FE;\n",
              "      border: none;\n",
              "      border-radius: 50%;\n",
              "      cursor: pointer;\n",
              "      display: none;\n",
              "      fill: #1967D2;\n",
              "      height: 32px;\n",
              "      padding: 0 0 0 0;\n",
              "      width: 32px;\n",
              "    }\n",
              "\n",
              "    .colab-df-convert:hover {\n",
              "      background-color: #E2EBFA;\n",
              "      box-shadow: 0px 1px 2px rgba(60, 64, 67, 0.3), 0px 1px 3px 1px rgba(60, 64, 67, 0.15);\n",
              "      fill: #174EA6;\n",
              "    }\n",
              "\n",
              "    [theme=dark] .colab-df-convert {\n",
              "      background-color: #3B4455;\n",
              "      fill: #D2E3FC;\n",
              "    }\n",
              "\n",
              "    [theme=dark] .colab-df-convert:hover {\n",
              "      background-color: #434B5C;\n",
              "      box-shadow: 0px 1px 3px 1px rgba(0, 0, 0, 0.15);\n",
              "      filter: drop-shadow(0px 1px 2px rgba(0, 0, 0, 0.3));\n",
              "      fill: #FFFFFF;\n",
              "    }\n",
              "  </style>\n",
              "\n",
              "      <script>\n",
              "        const buttonEl =\n",
              "          document.querySelector('#df-48f2653f-55ce-4a53-ba8e-7ef8f1ca7a9d button.colab-df-convert');\n",
              "        buttonEl.style.display =\n",
              "          google.colab.kernel.accessAllowed ? 'block' : 'none';\n",
              "\n",
              "        async function convertToInteractive(key) {\n",
              "          const element = document.querySelector('#df-48f2653f-55ce-4a53-ba8e-7ef8f1ca7a9d');\n",
              "          const dataTable =\n",
              "            await google.colab.kernel.invokeFunction('convertToInteractive',\n",
              "                                                     [key], {});\n",
              "          if (!dataTable) return;\n",
              "\n",
              "          const docLinkHtml = 'Like what you see? Visit the ' +\n",
              "            '<a target=\"_blank\" href=https://colab.research.google.com/notebooks/data_table.ipynb>data table notebook</a>'\n",
              "            + ' to learn more about interactive tables.';\n",
              "          element.innerHTML = '';\n",
              "          dataTable['output_type'] = 'display_data';\n",
              "          await google.colab.output.renderOutput(dataTable, element);\n",
              "          const docLink = document.createElement('div');\n",
              "          docLink.innerHTML = docLinkHtml;\n",
              "          element.appendChild(docLink);\n",
              "        }\n",
              "      </script>\n",
              "    </div>\n",
              "  </div>\n"
            ]
          },
          "metadata": {},
          "execution_count": 619
        }
      ]
    },
    {
      "cell_type": "code",
      "source": [
        "df.isna().sum()"
      ],
      "metadata": {
        "colab": {
          "base_uri": "https://localhost:8080/"
        },
        "id": "_91RxZuERDY3",
        "outputId": "cce40c9f-6f3d-4a3b-fd62-81555298fcfc"
      },
      "execution_count": 620,
      "outputs": [
        {
          "output_type": "execute_result",
          "data": {
            "text/plain": [
              "Customer Name          0\n",
              "Customer e-mail        0\n",
              "Country                0\n",
              "Gender                 0\n",
              "Age                    0\n",
              "Annual Salary          0\n",
              "Credit Card Debt       0\n",
              "Net Worth              0\n",
              "Car Purchase Amount    0\n",
              "dtype: int64"
            ]
          },
          "metadata": {},
          "execution_count": 620
        }
      ]
    },
    {
      "cell_type": "code",
      "source": [
        "df['Country'].nunique()"
      ],
      "metadata": {
        "colab": {
          "base_uri": "https://localhost:8080/"
        },
        "id": "7qu4e0GMROPE",
        "outputId": "1c1354ce-6d48-4d47-fb61-4132a2f754f4"
      },
      "execution_count": 621,
      "outputs": [
        {
          "output_type": "execute_result",
          "data": {
            "text/plain": [
              "211"
            ]
          },
          "metadata": {},
          "execution_count": 621
        }
      ]
    },
    {
      "cell_type": "code",
      "source": [
        "#sns.pairplot(df)"
      ],
      "metadata": {
        "id": "ZnG3MzXWRhqb"
      },
      "execution_count": 622,
      "outputs": []
    },
    {
      "cell_type": "code",
      "source": [
        "X  = df.drop(['Customer Name','Customer e-mail','Country','Car Purchase Amount'],axis = 1)"
      ],
      "metadata": {
        "id": "s0O6nVZSR__x"
      },
      "execution_count": 623,
      "outputs": []
    },
    {
      "cell_type": "code",
      "source": [
        "y  = df.iloc[:,-1]"
      ],
      "metadata": {
        "id": "piPphxX1X0V7"
      },
      "execution_count": 624,
      "outputs": []
    },
    {
      "cell_type": "code",
      "source": [
        "y = y.values.reshape(-1,1)"
      ],
      "metadata": {
        "id": "S26zfI_5ZtA9"
      },
      "execution_count": 625,
      "outputs": []
    },
    {
      "cell_type": "code",
      "source": [
        "y.shape"
      ],
      "metadata": {
        "colab": {
          "base_uri": "https://localhost:8080/"
        },
        "id": "-LYkDJw-Z17X",
        "outputId": "1dac4d7d-048f-4448-a969-920fc75e305b"
      },
      "execution_count": 626,
      "outputs": [
        {
          "output_type": "execute_result",
          "data": {
            "text/plain": [
              "(500, 1)"
            ]
          },
          "metadata": {},
          "execution_count": 626
        }
      ]
    },
    {
      "cell_type": "code",
      "source": [
        "X.shape"
      ],
      "metadata": {
        "colab": {
          "base_uri": "https://localhost:8080/"
        },
        "id": "zQpsaArnUPE2",
        "outputId": "efb8d5c5-c7cc-45de-d84a-ad1bda31c5b1"
      },
      "execution_count": 627,
      "outputs": [
        {
          "output_type": "execute_result",
          "data": {
            "text/plain": [
              "(500, 5)"
            ]
          },
          "metadata": {},
          "execution_count": 627
        }
      ]
    },
    {
      "cell_type": "code",
      "source": [
        "from sklearn.preprocessing import MinMaxScaler\n",
        "scx = MinMaxScaler(feature_range = (0,1))\n",
        "X_scaled  = scx.fit_transform(X)"
      ],
      "metadata": {
        "id": "eZXGD5LzYzVk"
      },
      "execution_count": 628,
      "outputs": []
    },
    {
      "cell_type": "code",
      "source": [
        "Y_scaled  = scx.fit_transform(y)"
      ],
      "metadata": {
        "id": "7DCvUKr7aofU"
      },
      "execution_count": 629,
      "outputs": []
    },
    {
      "cell_type": "code",
      "source": [
        "scx.data_max_"
      ],
      "metadata": {
        "colab": {
          "base_uri": "https://localhost:8080/"
        },
        "id": "uHDBXA38ZTjN",
        "outputId": "d31b6163-2e4b-4709-ebd7-c93967e8b843"
      },
      "execution_count": 630,
      "outputs": [
        {
          "output_type": "execute_result",
          "data": {
            "text/plain": [
              "array([80000.])"
            ]
          },
          "metadata": {},
          "execution_count": 630
        }
      ]
    },
    {
      "cell_type": "code",
      "source": [
        "scx.data_min_"
      ],
      "metadata": {
        "colab": {
          "base_uri": "https://localhost:8080/"
        },
        "id": "Mej7r70ZZXQm",
        "outputId": "91a9f2b0-4da2-4256-f932-399a8a6e2640"
      },
      "execution_count": 631,
      "outputs": [
        {
          "output_type": "execute_result",
          "data": {
            "text/plain": [
              "array([9000.])"
            ]
          },
          "metadata": {},
          "execution_count": 631
        }
      ]
    },
    {
      "cell_type": "code",
      "source": [
        "from sklearn.compose import ColumnTransformer\n",
        "from sklearn.preprocessing import OneHotEncoder\n",
        "ct = ColumnTransformer(transformers = [('encoder',OneHotEncoder(),[0])], remainder = 'passthrough')\n",
        "X1 = ct.fit_transform(X)"
      ],
      "metadata": {
        "id": "BPwgB2g5UQYp"
      },
      "execution_count": 632,
      "outputs": []
    },
    {
      "cell_type": "code",
      "source": [
        "from sklearn.model_selection import train_test_split\n",
        "xtrain,xtest,ytrain,ytest = train_test_split(X_scaled,Y_scaled,test_size = .25)"
      ],
      "metadata": {
        "id": "8KwzjcUHUyOn"
      },
      "execution_count": 633,
      "outputs": []
    },
    {
      "cell_type": "code",
      "source": [
        "import tensorflow.keras\n",
        "from keras.models import Sequential\n",
        "from keras.layers import Dense"
      ],
      "metadata": {
        "id": "UAUzijoucadj"
      },
      "execution_count": 634,
      "outputs": []
    },
    {
      "cell_type": "code",
      "source": [
        "ann =Sequential()\n",
        "ann.add(Dense(25,input_dim = 5,activation = 'relu'))\n",
        "ann.add(Dense(25,activation = 'relu'))\n",
        "ann.add(Dense(1,activation = 'linear'))\n",
        "ann.compile(optimizer = 'adam',loss = 'mean_squared_error')\n"
      ],
      "metadata": {
        "id": "HYyDgkUdV3eb"
      },
      "execution_count": 635,
      "outputs": []
    },
    {
      "cell_type": "code",
      "source": [
        "ann.summary()"
      ],
      "metadata": {
        "colab": {
          "base_uri": "https://localhost:8080/"
        },
        "id": "qWwbPwJddds8",
        "outputId": "2edf848f-0e71-4c4e-88da-26c4c5126125"
      },
      "execution_count": 636,
      "outputs": [
        {
          "output_type": "stream",
          "name": "stdout",
          "text": [
            "Model: \"sequential_20\"\n",
            "_________________________________________________________________\n",
            " Layer (type)                Output Shape              Param #   \n",
            "=================================================================\n",
            " dense_57 (Dense)            (None, 25)                150       \n",
            "                                                                 \n",
            " dense_58 (Dense)            (None, 25)                650       \n",
            "                                                                 \n",
            " dense_59 (Dense)            (None, 1)                 26        \n",
            "                                                                 \n",
            "=================================================================\n",
            "Total params: 826\n",
            "Trainable params: 826\n",
            "Non-trainable params: 0\n",
            "_________________________________________________________________\n"
          ]
        }
      ]
    },
    {
      "cell_type": "code",
      "source": [
        "epochs_hit = ann.fit(xtrain,ytrain,batch_size=50,epochs = 100,verbose = 1,validation_split = 0.2)"
      ],
      "metadata": {
        "colab": {
          "base_uri": "https://localhost:8080/"
        },
        "id": "_g7Itv6zbUON",
        "outputId": "0cd7edb6-7cd9-4ffa-f743-c91eaec435d5"
      },
      "execution_count": 637,
      "outputs": [
        {
          "output_type": "stream",
          "name": "stdout",
          "text": [
            "Epoch 1/100\n",
            "6/6 [==============================] - 1s 33ms/step - loss: 0.0376 - val_loss: 0.0212\n",
            "Epoch 2/100\n",
            "6/6 [==============================] - 0s 12ms/step - loss: 0.0175 - val_loss: 0.0127\n",
            "Epoch 3/100\n",
            "6/6 [==============================] - 0s 8ms/step - loss: 0.0128 - val_loss: 0.0147\n",
            "Epoch 4/100\n",
            "6/6 [==============================] - 0s 12ms/step - loss: 0.0130 - val_loss: 0.0137\n",
            "Epoch 5/100\n",
            "6/6 [==============================] - 0s 13ms/step - loss: 0.0110 - val_loss: 0.0102\n",
            "Epoch 6/100\n",
            "6/6 [==============================] - 0s 14ms/step - loss: 0.0088 - val_loss: 0.0082\n",
            "Epoch 7/100\n",
            "6/6 [==============================] - 0s 10ms/step - loss: 0.0077 - val_loss: 0.0070\n",
            "Epoch 8/100\n",
            "6/6 [==============================] - 0s 9ms/step - loss: 0.0065 - val_loss: 0.0059\n",
            "Epoch 9/100\n",
            "6/6 [==============================] - 0s 8ms/step - loss: 0.0054 - val_loss: 0.0049\n",
            "Epoch 10/100\n",
            "6/6 [==============================] - 0s 16ms/step - loss: 0.0045 - val_loss: 0.0039\n",
            "Epoch 11/100\n",
            "6/6 [==============================] - 0s 9ms/step - loss: 0.0039 - val_loss: 0.0033\n",
            "Epoch 12/100\n",
            "6/6 [==============================] - 0s 8ms/step - loss: 0.0033 - val_loss: 0.0029\n",
            "Epoch 13/100\n",
            "6/6 [==============================] - 0s 12ms/step - loss: 0.0029 - val_loss: 0.0025\n",
            "Epoch 14/100\n",
            "6/6 [==============================] - 0s 9ms/step - loss: 0.0026 - val_loss: 0.0021\n",
            "Epoch 15/100\n",
            "6/6 [==============================] - 0s 9ms/step - loss: 0.0022 - val_loss: 0.0019\n",
            "Epoch 16/100\n",
            "6/6 [==============================] - 0s 8ms/step - loss: 0.0020 - val_loss: 0.0017\n",
            "Epoch 17/100\n",
            "6/6 [==============================] - 0s 8ms/step - loss: 0.0018 - val_loss: 0.0015\n",
            "Epoch 18/100\n",
            "6/6 [==============================] - 0s 13ms/step - loss: 0.0017 - val_loss: 0.0014\n",
            "Epoch 19/100\n",
            "6/6 [==============================] - 0s 15ms/step - loss: 0.0015 - val_loss: 0.0012\n",
            "Epoch 20/100\n",
            "6/6 [==============================] - 0s 12ms/step - loss: 0.0014 - val_loss: 0.0011\n",
            "Epoch 21/100\n",
            "6/6 [==============================] - 0s 10ms/step - loss: 0.0013 - val_loss: 0.0010\n",
            "Epoch 22/100\n",
            "6/6 [==============================] - 0s 12ms/step - loss: 0.0013 - val_loss: 9.1843e-04\n",
            "Epoch 23/100\n",
            "6/6 [==============================] - 0s 11ms/step - loss: 0.0012 - val_loss: 8.5883e-04\n",
            "Epoch 24/100\n",
            "6/6 [==============================] - 0s 13ms/step - loss: 0.0011 - val_loss: 7.8997e-04\n",
            "Epoch 25/100\n",
            "6/6 [==============================] - 0s 9ms/step - loss: 0.0011 - val_loss: 7.6870e-04\n",
            "Epoch 26/100\n",
            "6/6 [==============================] - 0s 12ms/step - loss: 0.0010 - val_loss: 7.1904e-04\n",
            "Epoch 27/100\n",
            "6/6 [==============================] - 0s 8ms/step - loss: 9.5451e-04 - val_loss: 7.0473e-04\n",
            "Epoch 28/100\n",
            "6/6 [==============================] - 0s 12ms/step - loss: 8.9602e-04 - val_loss: 6.3763e-04\n",
            "Epoch 29/100\n",
            "6/6 [==============================] - 0s 9ms/step - loss: 8.4056e-04 - val_loss: 6.1824e-04\n",
            "Epoch 30/100\n",
            "6/6 [==============================] - 0s 12ms/step - loss: 7.9001e-04 - val_loss: 5.9264e-04\n",
            "Epoch 31/100\n",
            "6/6 [==============================] - 0s 10ms/step - loss: 7.5280e-04 - val_loss: 5.7447e-04\n",
            "Epoch 32/100\n",
            "6/6 [==============================] - 0s 11ms/step - loss: 7.0333e-04 - val_loss: 5.5094e-04\n",
            "Epoch 33/100\n",
            "6/6 [==============================] - 0s 9ms/step - loss: 6.6016e-04 - val_loss: 4.9721e-04\n",
            "Epoch 34/100\n",
            "6/6 [==============================] - 0s 9ms/step - loss: 6.1408e-04 - val_loss: 4.7027e-04\n",
            "Epoch 35/100\n",
            "6/6 [==============================] - 0s 12ms/step - loss: 5.7554e-04 - val_loss: 4.4528e-04\n",
            "Epoch 36/100\n",
            "6/6 [==============================] - 0s 12ms/step - loss: 5.3679e-04 - val_loss: 4.2028e-04\n",
            "Epoch 37/100\n",
            "6/6 [==============================] - 0s 9ms/step - loss: 5.0216e-04 - val_loss: 3.8823e-04\n",
            "Epoch 38/100\n",
            "6/6 [==============================] - 0s 9ms/step - loss: 4.7006e-04 - val_loss: 3.8163e-04\n",
            "Epoch 39/100\n",
            "6/6 [==============================] - 0s 8ms/step - loss: 4.2997e-04 - val_loss: 3.3197e-04\n",
            "Epoch 40/100\n",
            "6/6 [==============================] - 0s 8ms/step - loss: 3.9890e-04 - val_loss: 3.1192e-04\n",
            "Epoch 41/100\n",
            "6/6 [==============================] - 0s 9ms/step - loss: 3.8195e-04 - val_loss: 2.9263e-04\n",
            "Epoch 42/100\n",
            "6/6 [==============================] - 0s 9ms/step - loss: 3.5736e-04 - val_loss: 2.7102e-04\n",
            "Epoch 43/100\n",
            "6/6 [==============================] - 0s 12ms/step - loss: 3.2091e-04 - val_loss: 2.6344e-04\n",
            "Epoch 44/100\n",
            "6/6 [==============================] - 0s 9ms/step - loss: 2.8657e-04 - val_loss: 2.5933e-04\n",
            "Epoch 45/100\n",
            "6/6 [==============================] - 0s 9ms/step - loss: 2.7142e-04 - val_loss: 2.3302e-04\n",
            "Epoch 46/100\n",
            "6/6 [==============================] - 0s 9ms/step - loss: 2.4895e-04 - val_loss: 2.3223e-04\n",
            "Epoch 47/100\n",
            "6/6 [==============================] - 0s 12ms/step - loss: 2.3127e-04 - val_loss: 2.1175e-04\n",
            "Epoch 48/100\n",
            "6/6 [==============================] - 0s 12ms/step - loss: 2.1648e-04 - val_loss: 2.0515e-04\n",
            "Epoch 49/100\n",
            "6/6 [==============================] - 0s 12ms/step - loss: 2.0459e-04 - val_loss: 1.9549e-04\n",
            "Epoch 50/100\n",
            "6/6 [==============================] - 0s 13ms/step - loss: 1.8955e-04 - val_loss: 1.8822e-04\n",
            "Epoch 51/100\n",
            "6/6 [==============================] - 0s 12ms/step - loss: 1.7677e-04 - val_loss: 1.8892e-04\n",
            "Epoch 52/100\n",
            "6/6 [==============================] - 0s 12ms/step - loss: 1.6198e-04 - val_loss: 1.7474e-04\n",
            "Epoch 53/100\n",
            "6/6 [==============================] - 0s 14ms/step - loss: 1.5549e-04 - val_loss: 1.7332e-04\n",
            "Epoch 54/100\n",
            "6/6 [==============================] - 0s 9ms/step - loss: 1.4442e-04 - val_loss: 1.7691e-04\n",
            "Epoch 55/100\n",
            "6/6 [==============================] - 0s 12ms/step - loss: 1.3902e-04 - val_loss: 1.6590e-04\n",
            "Epoch 56/100\n",
            "6/6 [==============================] - 0s 9ms/step - loss: 1.3363e-04 - val_loss: 1.5917e-04\n",
            "Epoch 57/100\n",
            "6/6 [==============================] - 0s 12ms/step - loss: 1.2690e-04 - val_loss: 1.5860e-04\n",
            "Epoch 58/100\n",
            "6/6 [==============================] - 0s 10ms/step - loss: 1.2116e-04 - val_loss: 1.4987e-04\n",
            "Epoch 59/100\n",
            "6/6 [==============================] - 0s 12ms/step - loss: 1.1575e-04 - val_loss: 1.5408e-04\n",
            "Epoch 60/100\n",
            "6/6 [==============================] - 0s 8ms/step - loss: 1.1225e-04 - val_loss: 1.5184e-04\n",
            "Epoch 61/100\n",
            "6/6 [==============================] - 0s 9ms/step - loss: 1.0697e-04 - val_loss: 1.4747e-04\n",
            "Epoch 62/100\n",
            "6/6 [==============================] - 0s 13ms/step - loss: 1.1145e-04 - val_loss: 1.5532e-04\n",
            "Epoch 63/100\n",
            "6/6 [==============================] - 0s 8ms/step - loss: 1.1169e-04 - val_loss: 1.4792e-04\n",
            "Epoch 64/100\n",
            "6/6 [==============================] - 0s 11ms/step - loss: 1.0347e-04 - val_loss: 1.4543e-04\n",
            "Epoch 65/100\n",
            "6/6 [==============================] - 0s 9ms/step - loss: 9.6410e-05 - val_loss: 1.4205e-04\n",
            "Epoch 66/100\n",
            "6/6 [==============================] - 0s 8ms/step - loss: 9.6367e-05 - val_loss: 1.3871e-04\n",
            "Epoch 67/100\n",
            "6/6 [==============================] - 0s 14ms/step - loss: 9.3094e-05 - val_loss: 1.3945e-04\n",
            "Epoch 68/100\n",
            "6/6 [==============================] - 0s 9ms/step - loss: 9.2919e-05 - val_loss: 1.3645e-04\n",
            "Epoch 69/100\n",
            "6/6 [==============================] - 0s 12ms/step - loss: 8.8751e-05 - val_loss: 1.4513e-04\n",
            "Epoch 70/100\n",
            "6/6 [==============================] - 0s 12ms/step - loss: 8.4878e-05 - val_loss: 1.3199e-04\n",
            "Epoch 71/100\n",
            "6/6 [==============================] - 0s 9ms/step - loss: 7.9540e-05 - val_loss: 1.3264e-04\n",
            "Epoch 72/100\n",
            "6/6 [==============================] - 0s 8ms/step - loss: 8.2932e-05 - val_loss: 1.2974e-04\n",
            "Epoch 73/100\n",
            "6/6 [==============================] - 0s 9ms/step - loss: 7.6401e-05 - val_loss: 1.3353e-04\n",
            "Epoch 74/100\n",
            "6/6 [==============================] - 0s 12ms/step - loss: 7.8665e-05 - val_loss: 1.2611e-04\n",
            "Epoch 75/100\n",
            "6/6 [==============================] - 0s 9ms/step - loss: 7.5323e-05 - val_loss: 1.2222e-04\n",
            "Epoch 76/100\n",
            "6/6 [==============================] - 0s 13ms/step - loss: 7.4846e-05 - val_loss: 1.2378e-04\n",
            "Epoch 77/100\n",
            "6/6 [==============================] - 0s 9ms/step - loss: 7.3567e-05 - val_loss: 1.1962e-04\n",
            "Epoch 78/100\n",
            "6/6 [==============================] - 0s 8ms/step - loss: 7.3121e-05 - val_loss: 1.2045e-04\n",
            "Epoch 79/100\n",
            "6/6 [==============================] - 0s 13ms/step - loss: 7.1305e-05 - val_loss: 1.2398e-04\n",
            "Epoch 80/100\n",
            "6/6 [==============================] - 0s 9ms/step - loss: 6.8377e-05 - val_loss: 1.2272e-04\n",
            "Epoch 81/100\n",
            "6/6 [==============================] - 0s 13ms/step - loss: 7.1864e-05 - val_loss: 1.2448e-04\n",
            "Epoch 82/100\n",
            "6/6 [==============================] - 0s 13ms/step - loss: 6.9363e-05 - val_loss: 1.1592e-04\n",
            "Epoch 83/100\n",
            "6/6 [==============================] - 0s 15ms/step - loss: 6.3741e-05 - val_loss: 1.1352e-04\n",
            "Epoch 84/100\n",
            "6/6 [==============================] - 0s 15ms/step - loss: 6.3232e-05 - val_loss: 1.1413e-04\n",
            "Epoch 85/100\n",
            "6/6 [==============================] - 0s 19ms/step - loss: 6.2263e-05 - val_loss: 1.1180e-04\n",
            "Epoch 86/100\n",
            "6/6 [==============================] - 0s 17ms/step - loss: 6.1547e-05 - val_loss: 1.0991e-04\n",
            "Epoch 87/100\n",
            "6/6 [==============================] - 0s 18ms/step - loss: 6.1526e-05 - val_loss: 1.0734e-04\n",
            "Epoch 88/100\n",
            "6/6 [==============================] - 0s 11ms/step - loss: 6.0417e-05 - val_loss: 1.0958e-04\n",
            "Epoch 89/100\n",
            "6/6 [==============================] - 0s 12ms/step - loss: 5.8953e-05 - val_loss: 1.0388e-04\n",
            "Epoch 90/100\n",
            "6/6 [==============================] - 0s 11ms/step - loss: 5.7643e-05 - val_loss: 1.0456e-04\n",
            "Epoch 91/100\n",
            "6/6 [==============================] - 0s 14ms/step - loss: 5.6713e-05 - val_loss: 1.0110e-04\n",
            "Epoch 92/100\n",
            "6/6 [==============================] - 0s 13ms/step - loss: 5.6527e-05 - val_loss: 1.0450e-04\n",
            "Epoch 93/100\n",
            "6/6 [==============================] - 0s 13ms/step - loss: 5.7217e-05 - val_loss: 1.0248e-04\n",
            "Epoch 94/100\n",
            "6/6 [==============================] - 0s 16ms/step - loss: 5.8503e-05 - val_loss: 9.8415e-05\n",
            "Epoch 95/100\n",
            "6/6 [==============================] - 0s 13ms/step - loss: 5.6486e-05 - val_loss: 1.0237e-04\n",
            "Epoch 96/100\n",
            "6/6 [==============================] - 0s 15ms/step - loss: 5.7665e-05 - val_loss: 1.0435e-04\n",
            "Epoch 97/100\n",
            "6/6 [==============================] - 0s 15ms/step - loss: 5.9074e-05 - val_loss: 9.7236e-05\n",
            "Epoch 98/100\n",
            "6/6 [==============================] - 0s 15ms/step - loss: 5.3242e-05 - val_loss: 9.5880e-05\n",
            "Epoch 99/100\n",
            "6/6 [==============================] - 0s 15ms/step - loss: 5.2575e-05 - val_loss: 9.4747e-05\n",
            "Epoch 100/100\n",
            "6/6 [==============================] - 0s 12ms/step - loss: 5.4234e-05 - val_loss: 9.5661e-05\n"
          ]
        }
      ]
    },
    {
      "cell_type": "code",
      "source": [],
      "metadata": {
        "id": "1HnIVgQHgMr_"
      },
      "execution_count": 637,
      "outputs": []
    },
    {
      "cell_type": "code",
      "source": [],
      "metadata": {
        "id": "HLR8gKikhfd_"
      },
      "execution_count": 637,
      "outputs": []
    },
    {
      "cell_type": "code",
      "source": [],
      "metadata": {
        "id": "6NoaTi4zi3HN"
      },
      "execution_count": 637,
      "outputs": []
    },
    {
      "cell_type": "code",
      "source": [],
      "metadata": {
        "id": "jWi7izrEkU8j"
      },
      "execution_count": 637,
      "outputs": []
    },
    {
      "cell_type": "code",
      "source": [
        "epochs_hit.history.keys()"
      ],
      "metadata": {
        "colab": {
          "base_uri": "https://localhost:8080/"
        },
        "id": "8G_TMUVghhHs",
        "outputId": "b5d218c3-f82c-4cf4-eda6-963655c06c21"
      },
      "execution_count": 638,
      "outputs": [
        {
          "output_type": "execute_result",
          "data": {
            "text/plain": [
              "dict_keys(['loss', 'val_loss'])"
            ]
          },
          "metadata": {},
          "execution_count": 638
        }
      ]
    },
    {
      "cell_type": "code",
      "source": [
        "plt.plot(epochs_hit.history['loss'],label='training loss')\n",
        "plt.plot(epochs_hit.history['val_loss'],label='validation loss')\n",
        "plt.legend()"
      ],
      "metadata": {
        "colab": {
          "base_uri": "https://localhost:8080/",
          "height": 447
        },
        "id": "ImFvdZr9hyjk",
        "outputId": "9db4caa1-2164-48fa-f771-a77bf5c5ee0a"
      },
      "execution_count": 639,
      "outputs": [
        {
          "output_type": "execute_result",
          "data": {
            "text/plain": [
              "<matplotlib.legend.Legend at 0x7d92c2aeb370>"
            ]
          },
          "metadata": {},
          "execution_count": 639
        },
        {
          "output_type": "display_data",
          "data": {
            "text/plain": [
              "<Figure size 640x480 with 1 Axes>"
            ],
            "image/png": "[encoded data removed]"
          },
          "metadata": {}
        }
      ]
    },
    {
      "cell_type": "code",
      "source": [
        "ann.predict(xtest)"
      ],
      "metadata": {
        "colab": {
          "base_uri": "https://localhost:8080/"
        },
        "id": "rirWdn1Ou2Wi",
        "outputId": "8ec6eb61-a166-4fc5-aa91-1b6f1c9922bf"
      },
      "execution_count": 640,
      "outputs": [
        {
          "output_type": "stream",
          "name": "stdout",
          "text": [
            "4/4 [==============================] - 0s 3ms/step\n"
          ]
        },
        {
          "output_type": "execute_result",
          "data": {
            "text/plain": [
              "array([[0.19212712],\n",
              "       [0.38398466],\n",
              "       [0.35032377],\n",
              "       [0.5933639 ],\n",
              "       [0.691405  ],\n",
              "       [0.46843243],\n",
              "       [0.49623564],\n",
              "       [0.76067984],\n",
              "       [0.86702245],\n",
              "       [0.48459575],\n",
              "       [0.6128404 ],\n",
              "       [0.6320406 ],\n",
              "       [0.44165337],\n",
              "       [0.6918982 ],\n",
              "       [0.37988254],\n",
              "       [0.72349036],\n",
              "       [0.4949645 ],\n",
              "       [0.53259486],\n",
              "       [0.1470926 ],\n",
              "       [0.00922511],\n",
              "       [0.3707393 ],\n",
              "       [0.5372907 ],\n",
              "       [0.5640113 ],\n",
              "       [0.4165325 ],\n",
              "       [0.56098175],\n",
              "       [0.6757564 ],\n",
              "       [0.4157882 ],\n",
              "       [0.29200312],\n",
              "       [0.55321175],\n",
              "       [0.53813344],\n",
              "       [0.5039766 ],\n",
              "       [0.40409246],\n",
              "       [0.43631625],\n",
              "       [0.5229578 ],\n",
              "       [0.47300807],\n",
              "       [0.50629985],\n",
              "       [0.57519084],\n",
              "       [0.41144818],\n",
              "       [0.34215602],\n",
              "       [0.80354905],\n",
              "       [0.4505074 ],\n",
              "       [0.5650866 ],\n",
              "       [0.59307927],\n",
              "       [0.4756599 ],\n",
              "       [0.51983994],\n",
              "       [0.508476  ],\n",
              "       [0.38719872],\n",
              "       [0.26710793],\n",
              "       [0.6263271 ],\n",
              "       [0.2152163 ],\n",
              "       [0.5380748 ],\n",
              "       [0.33261198],\n",
              "       [0.448872  ],\n",
              "       [0.40107858],\n",
              "       [0.26253936],\n",
              "       [0.47248247],\n",
              "       [0.45703596],\n",
              "       [0.28021958],\n",
              "       [0.1827392 ],\n",
              "       [0.48283514],\n",
              "       [0.33496347],\n",
              "       [0.51247936],\n",
              "       [0.59823745],\n",
              "       [0.61276895],\n",
              "       [0.36390662],\n",
              "       [0.804087  ],\n",
              "       [0.28959918],\n",
              "       [0.4301738 ],\n",
              "       [0.5301224 ],\n",
              "       [0.41249892],\n",
              "       [0.26116025],\n",
              "       [0.32712948],\n",
              "       [0.55803823],\n",
              "       [0.47741702],\n",
              "       [0.43248245],\n",
              "       [0.61904114],\n",
              "       [0.3905777 ],\n",
              "       [0.52043915],\n",
              "       [0.3948774 ],\n",
              "       [0.62366587],\n",
              "       [0.64838076],\n",
              "       [0.21238483],\n",
              "       [0.59513605],\n",
              "       [0.56541854],\n",
              "       [0.54850924],\n",
              "       [0.6513858 ],\n",
              "       [0.60061634],\n",
              "       [0.5036846 ],\n",
              "       [0.5983551 ],\n",
              "       [0.4570967 ],\n",
              "       [0.5373628 ],\n",
              "       [0.6432408 ],\n",
              "       [0.4567598 ],\n",
              "       [0.27750224],\n",
              "       [0.18941393],\n",
              "       [0.5087543 ],\n",
              "       [0.28118432],\n",
              "       [0.42336977],\n",
              "       [0.35103765],\n",
              "       [0.81945205],\n",
              "       [0.3991002 ],\n",
              "       [0.51906186],\n",
              "       [0.39805815],\n",
              "       [0.4449155 ],\n",
              "       [0.56735706],\n",
              "       [0.6215293 ],\n",
              "       [0.44594198],\n",
              "       [0.41164127],\n",
              "       [0.60085475],\n",
              "       [0.49397627],\n",
              "       [0.55507594],\n",
              "       [0.44696102],\n",
              "       [0.04074368],\n",
              "       [0.67572707],\n",
              "       [0.5531887 ],\n",
              "       [0.37325034],\n",
              "       [0.6182432 ],\n",
              "       [0.5550724 ],\n",
              "       [0.35836637],\n",
              "       [0.4571043 ],\n",
              "       [0.13801561],\n",
              "       [0.46316212],\n",
              "       [0.5689692 ],\n",
              "       [0.3698706 ],\n",
              "       [0.5475552 ]], dtype=float32)"
            ]
          },
          "metadata": {},
          "execution_count": 640
        }
      ]
    },
    {
      "cell_type": "code",
      "source": [
        "ypred = scx.inverse_transform(ann.predict(xtest))"
      ],
      "metadata": {
        "colab": {
          "base_uri": "https://localhost:8080/"
        },
        "id": "oz21t-ZQsqoF",
        "outputId": "6d9606d9-94a4-4ae8-89f4-cd6185d65f2b"
      },
      "execution_count": 641,
      "outputs": [
        {
          "output_type": "stream",
          "name": "stdout",
          "text": [
            "4/4 [==============================] - 0s 2ms/step\n"
          ]
        }
      ]
    },
    {
      "cell_type": "code",
      "source": [
        "ypred"
      ],
      "metadata": {
        "colab": {
          "base_uri": "https://localhost:8080/"
        },
        "id": "8TuNiuEMtfWu",
        "outputId": "e19cc815-d2f6-49e5-a2e3-a69a6293ab1b"
      },
      "execution_count": 642,
      "outputs": [
        {
          "output_type": "execute_result",
          "data": {
            "text/plain": [
              "array([[22641.025],\n",
              "       [36262.91 ],\n",
              "       [33872.99 ],\n",
              "       [51128.836],\n",
              "       [58089.754],\n",
              "       [42258.7  ],\n",
              "       [44232.73 ],\n",
              "       [63008.266],\n",
              "       [70558.59 ],\n",
              "       [43406.297],\n",
              "       [52511.668],\n",
              "       [53874.883],\n",
              "       [40357.387],\n",
              "       [58124.773],\n",
              "       [35971.66 ],\n",
              "       [60367.812],\n",
              "       [44142.48 ],\n",
              "       [46814.234],\n",
              "       [19443.574],\n",
              "       [ 9654.982],\n",
              "       [35322.492],\n",
              "       [47147.637],\n",
              "       [49044.8  ],\n",
              "       [38573.81 ],\n",
              "       [48829.703],\n",
              "       [56978.703],\n",
              "       [38520.965],\n",
              "       [29732.223],\n",
              "       [48278.03 ],\n",
              "       [47207.473],\n",
              "       [44782.336],\n",
              "       [37690.566],\n",
              "       [39978.453],\n",
              "       [46130.004],\n",
              "       [42583.574],\n",
              "       [44947.29 ],\n",
              "       [49838.547],\n",
              "       [38212.82 ],\n",
              "       [33293.08 ],\n",
              "       [66051.984],\n",
              "       [40986.023],\n",
              "       [49121.15 ],\n",
              "       [51108.625],\n",
              "       [42771.85 ],\n",
              "       [45908.633],\n",
              "       [45101.797],\n",
              "       [36491.11 ],\n",
              "       [27964.664],\n",
              "       [53469.223],\n",
              "       [24280.355],\n",
              "       [47203.31 ],\n",
              "       [32615.451],\n",
              "       [40869.914],\n",
              "       [37476.58 ],\n",
              "       [27640.295],\n",
              "       [42546.258],\n",
              "       [41449.55 ],\n",
              "       [28895.592],\n",
              "       [21974.484],\n",
              "       [43281.297],\n",
              "       [32782.406],\n",
              "       [45386.035],\n",
              "       [51474.86 ],\n",
              "       [52506.594],\n",
              "       [34837.37 ],\n",
              "       [66090.17 ],\n",
              "       [29561.543],\n",
              "       [39542.34 ],\n",
              "       [46638.688],\n",
              "       [38287.426],\n",
              "       [27542.379],\n",
              "       [32226.193],\n",
              "       [48620.715],\n",
              "       [42896.61 ],\n",
              "       [39706.254],\n",
              "       [52951.918],\n",
              "       [36731.02 ],\n",
              "       [45951.18 ],\n",
              "       [37036.297],\n",
              "       [53280.273],\n",
              "       [55035.03 ],\n",
              "       [24079.322],\n",
              "       [51254.656],\n",
              "       [49144.715],\n",
              "       [47944.156],\n",
              "       [55248.39 ],\n",
              "       [51643.758],\n",
              "       [44761.605],\n",
              "       [51483.21 ],\n",
              "       [41453.863],\n",
              "       [47152.758],\n",
              "       [54670.098],\n",
              "       [41429.945],\n",
              "       [28702.66 ],\n",
              "       [22448.39 ],\n",
              "       [45121.555],\n",
              "       [28964.088],\n",
              "       [39059.25 ],\n",
              "       [33923.676],\n",
              "       [67181.09 ],\n",
              "       [37336.117],\n",
              "       [45853.39 ],\n",
              "       [37262.13 ],\n",
              "       [40589.   ],\n",
              "       [49282.35 ],\n",
              "       [53128.58 ],\n",
              "       [40661.88 ],\n",
              "       [38226.53 ],\n",
              "       [51660.688],\n",
              "       [44072.316],\n",
              "       [48410.39 ],\n",
              "       [40734.234],\n",
              "       [11892.801],\n",
              "       [56976.62 ],\n",
              "       [48276.395],\n",
              "       [35500.773],\n",
              "       [52895.266],\n",
              "       [48410.14 ],\n",
              "       [34444.01 ],\n",
              "       [41454.406],\n",
              "       [18799.107],\n",
              "       [41884.508],\n",
              "       [49396.812],\n",
              "       [35260.812],\n",
              "       [47876.418]], dtype=float32)"
            ]
          },
          "metadata": {},
          "execution_count": 642
        }
      ]
    },
    {
      "cell_type": "code",
      "source": [
        "ytest = scx.inverse_transform(ytest)"
      ],
      "metadata": {
        "id": "NS4WaliUswIY"
      },
      "execution_count": 643,
      "outputs": []
    },
    {
      "cell_type": "code",
      "source": [
        "ytest"
      ],
      "metadata": {
        "colab": {
          "base_uri": "https://localhost:8080/"
        },
        "id": "gZkvb-oDtZ9e",
        "outputId": "1d348488-4052-46ab-d994-fa8e100e1aa8"
      },
      "execution_count": 644,
      "outputs": [
        {
          "output_type": "execute_result",
          "data": {
            "text/plain": [
              "array([[22091.11839],\n",
              "       [37076.82508],\n",
              "       [34678.83226],\n",
              "       [51405.55229],\n",
              "       [58045.56257],\n",
              "       [42484.02283],\n",
              "       [44418.60955],\n",
              "       [63738.39065],\n",
              "       [70878.29664],\n",
              "       [43405.89086],\n",
              "       [52313.98392],\n",
              "       [53655.53859],\n",
              "       [40093.61981],\n",
              "       [58235.41454],\n",
              "       [36019.9556 ],\n",
              "       [60960.83428],\n",
              "       [43994.35972],\n",
              "       [45977.12502],\n",
              "       [12895.71468],\n",
              "       [ 9000.     ],\n",
              "       [35475.00344],\n",
              "       [47143.44008],\n",
              "       [49258.87571],\n",
              "       [38174.87433],\n",
              "       [49336.11628],\n",
              "       [57441.44414],\n",
              "       [38502.42392],\n",
              "       [30719.8156 ],\n",
              "       [48052.65091],\n",
              "       [47380.91224],\n",
              "       [46188.83514],\n",
              "       [38504.39444],\n",
              "       [39975.43302],\n",
              "       [46135.27233],\n",
              "       [42747.53925],\n",
              "       [45115.52566],\n",
              "       [49991.60697],\n",
              "       [38930.55234],\n",
              "       [33261.00057],\n",
              "       [66648.25077],\n",
              "       [41357.17897],\n",
              "       [48300.02057],\n",
              "       [50666.88173],\n",
              "       [42793.9932 ],\n",
              "       [46380.44732],\n",
              "       [45015.67953],\n",
              "       [37259.84386],\n",
              "       [28700.0334 ],\n",
              "       [52954.93121],\n",
              "       [23517.91983],\n",
              "       [46643.26581],\n",
              "       [32967.20191],\n",
              "       [41026.02421],\n",
              "       [37871.7082 ],\n",
              "       [27187.23914],\n",
              "       [42592.88647],\n",
              "       [41567.47033],\n",
              "       [27810.21814],\n",
              "       [22630.25982],\n",
              "       [42909.27129],\n",
              "       [33131.52734],\n",
              "       [45112.94547],\n",
              "       [53993.44322],\n",
              "       [52116.90791],\n",
              "       [34922.42846],\n",
              "       [66158.69494],\n",
              "       [30240.60975],\n",
              "       [39549.13039],\n",
              "       [45824.5656 ],\n",
              "       [38243.66481],\n",
              "       [28031.20985],\n",
              "       [32478.44758],\n",
              "       [47970.76767],\n",
              "       [43402.31525],\n",
              "       [40022.17406],\n",
              "       [53489.46214],\n",
              "       [38042.80065],\n",
              "       [44736.41097],\n",
              "       [37252.55194],\n",
              "       [52707.96816],\n",
              "       [55592.70383],\n",
              "       [24134.59205],\n",
              "       [51612.14311],\n",
              "       [49091.97185],\n",
              "       [47240.86004],\n",
              "       [57306.32866],\n",
              "       [51866.48719],\n",
              "       [44463.30502],\n",
              "       [51130.95379],\n",
              "       [41137.89459],\n",
              "       [46402.53583],\n",
              "       [54013.47595],\n",
              "       [41320.07256],\n",
              "       [29002.05665],\n",
              "       [20653.21409],\n",
              "       [44577.44829],\n",
              "       [28463.64326],\n",
              "       [39331.20127],\n",
              "       [34139.6373 ],\n",
              "       [66888.93694],\n",
              "       [38243.06228],\n",
              "       [45167.32542],\n",
              "       [37744.54285],\n",
              "       [40589.8625 ],\n",
              "       [49510.03356],\n",
              "       [53502.97742],\n",
              "       [41034.28343],\n",
              "       [38674.66038],\n",
              "       [51046.42226],\n",
              "       [43724.4896 ],\n",
              "       [47604.34591],\n",
              "       [40660.38317],\n",
              "       [12536.93842],\n",
              "       [56510.13294],\n",
              "       [47805.25605],\n",
              "       [35784.42411],\n",
              "       [53049.44567],\n",
              "       [48013.6141 ],\n",
              "       [35726.95299],\n",
              "       [41814.72067],\n",
              "       [17584.56963],\n",
              "       [42297.5062 ],\n",
              "       [49248.10595],\n",
              "       [35139.24793],\n",
              "       [47869.82593]])"
            ]
          },
          "metadata": {},
          "execution_count": 644
        }
      ]
    },
    {
      "cell_type": "code",
      "source": [
        "100-((((abs(ytest-ypred))/ytest)*100).mean())"
      ],
      "metadata": {
        "colab": {
          "base_uri": "https://localhost:8080/"
        },
        "id": "r9tqjq-zt7Jh",
        "outputId": "0a3c2427-be5d-4726-aa18-be077fb3e80f"
      },
      "execution_count": 645,
      "outputs": [
        {
          "output_type": "execute_result",
          "data": {
            "text/plain": [
              "98.36299161490315"
            ]
          },
          "metadata": {},
          "execution_count": 645
        }
      ]
    },
    {
      "cell_type": "code",
      "source": [
        "rndm_prediction = np.array([[1, 50, 50000, 10985, 629312]])"
      ],
      "metadata": {
        "id": "BD8iJim0lZx1"
      },
      "execution_count": 700,
      "outputs": []
    },
    {
      "cell_type": "code",
      "source": [
        "y_rndm_prediction = ann.predict(rndm_prediction)"
      ],
      "metadata": {
        "colab": {
          "base_uri": "https://localhost:8080/"
        },
        "id": "is8ONNRenTz6",
        "outputId": "be5138c5-c19b-4273-acd7-753329be6caf"
      },
      "execution_count": 701,
      "outputs": [
        {
          "output_type": "stream",
          "name": "stdout",
          "text": [
            "1/1 [==============================] - 0s 40ms/step\n"
          ]
        }
      ]
    },
    {
      "cell_type": "code",
      "source": [
        "y_rndm_prediction"
      ],
      "metadata": {
        "colab": {
          "base_uri": "https://localhost:8080/"
        },
        "id": "0BLS4hjqnXnQ",
        "outputId": "757b1aa8-2968-4fe4-8ed4-67a4b2885481"
      },
      "execution_count": 702,
      "outputs": [
        {
          "output_type": "execute_result",
          "data": {
            "text/plain": [
              "array([[215216.31]], dtype=float32)"
            ]
          },
          "metadata": {},
          "execution_count": 702
        }
      ]
    },
    {
      "cell_type": "code",
      "source": [],
      "metadata": {
        "id": "wL1oDo3noJwC"
      },
      "execution_count": 648,
      "outputs": []
    }
  ]
}